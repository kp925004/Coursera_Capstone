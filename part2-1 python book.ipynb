{
    "cells": [
        {
            "metadata": {
                "collapsed": true
            },
            "cell_type": "markdown",
            "source": "Import Relevant Libraries"
        },
        {
            "metadata": {},
            "cell_type": "code",
            "source": "import pandas as pd\nimport numpy as np\nfrom bs4 import BeautifulSoup\nimport requests",
            "execution_count": 1,
            "outputs": []
        },
        {
            "metadata": {},
            "cell_type": "markdown",
            "source": "Get Text from Wikipedia Page and parse HTML code to get the table"
        },
        {
            "metadata": {},
            "cell_type": "code",
            "source": "#get text from Wikipedia page\nwikipedia_page ='https://en.wikipedia.org/wiki/List_of_postal_codes_of_Canada:_M'\nwikipedia_text = requests.get(wikipedia_page).text\n\n# use beautiful soup to parse the HTML/XML codes.\nsoup = BeautifulSoup(wikipedia_text,'xml')\ntable = soup.find('table')",
            "execution_count": 2,
            "outputs": []
        },
        {
            "metadata": {},
            "cell_type": "code",
            "source": "\nTransform table into a Dataframe, delete columns with unassigned Boroughs and Change name of unassigned neighbourhoods to name of borough",
            "execution_count": null,
            "outputs": []
        }
    ],
    "metadata": {
        "kernelspec": {
            "name": "python3",
            "display_name": "Python 3.6",
            "language": "python"
        },
        "language_info": {
            "name": "python",
            "version": "3.6.9",
            "mimetype": "text/x-python",
            "codemirror_mode": {
                "name": "ipython",
                "version": 3
            },
            "pygments_lexer": "ipython3",
            "nbconvert_exporter": "python",
            "file_extension": ".py"
        }
    },
    "nbformat": 4,
    "nbformat_minor": 1
}